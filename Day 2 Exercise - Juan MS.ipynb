{
 "cells": [
  {
   "cell_type": "markdown",
   "metadata": {},
   "source": [
    "## Exercises\n",
    "### Write the pseudocode for these problems. \n",
    "\n",
    "#### Define the problem by constructing an IPO diagram showing input, output, and processing steps\n",
    "Ask yourself\n",
    "- What control structures (sequence, selection and repetition) are required?\n",
    "- What variables are required?\n",
    "\n",
    "Show a check of your solution with **test data** for at least **two valid test cases**\n",
    "If you use the numbers provided in the example then the correct pseudocode will calculate the same result.\n",
    "    "
   ]
  },
  {
   "cell_type": "markdown",
   "metadata": {},
   "source": [
    "#### 1. Find the average score\n",
    "A program is needed to prompt the user operator for ten exam scores, calculate the average score and display the result to the screen. The average score is calculated as the sum of the scores divided by the number of scores."
   ]
  },
  {
   "cell_type": "markdown",
   "metadata": {},
   "source": [
    "BEGIN \n",
    "\n",
    " Set sum= 0\n",
    " LOOP 10 times \n",
    " Prompt user for a number\n",
    " Add a number to sum\n",
    " END LOOP\n",
    "\n",
    "avg =  sum/10\n",
    "Display avg to user\n",
    "\n",
    "END\n"
   ]
  },
  {
   "cell_type": "markdown",
   "metadata": {},
   "source": [
    "#### 2. How much water runs off a roof in a rain storm?\n",
    "To calculate the runoff from any given rainfall: Take the dimensions of the footprint of the roof and convert them to inches. (So, a 50' x 20' roof is 600\" x 240\"). Multiply the roof dimensions by the number of inches of rainfall. As an example, 600\" x 240\" x 1\" = 144,000 cubic inches of water for an inch of rainfall. Divide that result by 231 to get the number of gallons (because 1 gallon = 231 cubic inches). (144,000/231 = 623.38)."
   ]
  },
  {
   "cell_type": "markdown",
   "metadata": {},
   "source": [
    "BEGIN\n",
    "\n",
    "Roof width=50 feet\n",
    "Multiply Roof Width x 12 = 600 inches\n",
    "\n",
    "Roof length = 20 feel \n",
    "Multiply Roof length x 12 = 240 inches\n",
    "\n",
    "Amount of rain = 1 inch\n",
    "\n",
    "Calculate cubic inches of water\n",
    "    Multiply roof lenght and width times amount of rain = 600 x 240 x 1 =  144,000 cubic inches\n",
    "\n",
    "Obtain number of gallons of water\n",
    "    divide cubic inches of water by 231 (number of cubic inches in a gallon)\n",
    "    144,000/231 = 623.38 gallons\n",
    "    \n",
    "END\n"
   ]
  },
  {
   "cell_type": "markdown",
   "metadata": {},
   "source": [
    "#### 3. Process customer record\n",
    "A program is required to read a customer’s name, a purchase amount and a tax code. The tax code has been validated and will be one of the following: 0 tax exempt (0%) 1 state sales tax only (3%) 2 federal and state sales tax (5%) 3 special sales tax (7%) The program must then compute the sales tax and the total amount due,and print the customer’s name, purchase amount, sales tax and total amount due."
   ]
  },
  {
   "cell_type": "markdown",
   "metadata": {},
   "source": [
    "BEGIN\n",
    "\n",
    "Tax Rate list:\n",
    "    Tax exempt rate = 0\n",
    "    State sales tax ony = 3\n",
    "    Federal sales tax = 5\n",
    "    State sales tax = 5\n",
    "    Special sales tax = 7\n",
    "\n",
    "Set amount due = 0\n",
    "\n",
    "Determine Customer's name\n",
    "Determine Customer's Tax Code\n",
    "Identify Purchase Amount\n",
    "Identify tax amount due\n",
    "    purchase amount x tax code from tax rate list = sales tax amount due\n",
    "determine total amount due\n",
    "    purchase amount + sales tax amount due = total amount due\n",
    "\n",
    "Display: \n",
    "Customer's name\n",
    "Purchase Amount\n",
    "Sales tax amount \n",
    "Total amount due\n",
    "\n",
    "END\n"
   ]
  },
  {
   "cell_type": "markdown",
   "metadata": {},
   "source": [
    "#### 4. Calculate employee's pay \n",
    "A program is required by a company to read an employee’s number, pay rate and the number of hours worked in a week. The program is then to validate the pay rate field and the hours worked field and, if valid, compute the employee’s weekly pay and then print it and the input data.\n",
    "\n",
    "Validation: According to the company’s rules, the maximum hours an employee can work per week is 60 hours, and the maximum hourly rate is $25.00 per hour. If the hours worked field or the hourly rate field is out of range, the input data and an appropriate message are to be printed and the employee’s weekly pay is not to be calculated.\n",
    "\n",
    "Weekly pay calculation: Weekly pay is calculated as hours worked times pay rate. If more than 35 hours are worked, payment for the overtime hours worked is calculated at time-and-a-half."
   ]
  },
  {
   "cell_type": "markdown",
   "metadata": {},
   "source": [
    "BEGIN\n",
    "\n",
    "Validation requirements:\n",
    "    Max number of hours worked per week = 60 hours\n",
    "    Maximum hourly rate: $25 per hour\n",
    "\n",
    "Input Data\n",
    "    Determine Employee's number \n",
    "    Determine Pay Rate\n",
    "    Determine Number of Hours worked\n",
    "\n",
    "IF \n",
    "    Employee's number of hours worked is equal to or less than 60 hours per week AND\n",
    "    Employee's pay rate is equal to or less than $25 per hour \n",
    "    Compute employee's weekly pay: pay rate x number of hours worked up to 35 hours\n",
    "        If employee worked more than 35 hours, then those hours over 35 are multiplied and paid as 1.5 the pay rate.\n",
    "    Print: employee's weekly pay and input data\n",
    "\n",
    "ELSE  \n",
    "    Employee's number of hours worked is greater than 60 hours per week AND/OR\n",
    "    Employee's pay rate is greater than $25 per hour \n",
    "    Print: Employee's pay rate or numbe of hours worked is not valid.  \n",
    "\n",
    "END"
   ]
  },
  {
   "cell_type": "code",
   "execution_count": null,
   "metadata": {},
   "outputs": [],
   "source": []
  }
 ],
 "metadata": {
  "kernelspec": {
   "display_name": "Python 3 (ipykernel)",
   "language": "python",
   "name": "python3"
  },
  "language_info": {
   "codemirror_mode": {
    "name": "ipython",
    "version": 3
   },
   "file_extension": ".py",
   "mimetype": "text/x-python",
   "name": "python",
   "nbconvert_exporter": "python",
   "pygments_lexer": "ipython3",
   "version": "3.9.12"
  }
 },
 "nbformat": 4,
 "nbformat_minor": 2
}
